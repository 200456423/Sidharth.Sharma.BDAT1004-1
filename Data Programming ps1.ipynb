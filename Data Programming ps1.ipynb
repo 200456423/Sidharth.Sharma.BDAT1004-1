{
 "cells": [
  {
   "cell_type": "markdown",
   "metadata": {},
   "source": [
    "# Problem Set 1                                                                  "
   ]
  },
  {
   "cell_type": "code",
   "execution_count": 1,
   "metadata": {},
   "outputs": [],
   "source": [
    "import numpy as np"
   ]
  },
  {
   "cell_type": "markdown",
   "metadata": {},
   "source": [
    "### Q1. What data type is each of the following?"
   ]
  },
  {
   "cell_type": "markdown",
   "metadata": {},
   "source": [
    "##### 1.) 5\n",
    "##### 2.) 5.0\n",
    "##### 3.) 5 > 1\n",
    "##### 4.) '5'\n",
    "##### 5.) 5 * 2\n",
    "##### 6.) '5' * 2\n",
    "##### 7.) '5' + '2'\n",
    "##### 8.) 5 / 2\n",
    "##### 9.) 5 // 2\n",
    "##### 10.) [5, 2, 1]\n",
    "##### 11.) 5 in [1, 4, 6]\n",
    "##### 12.) math.pi\n"
   ]
  },
  {
   "cell_type": "code",
   "execution_count": 2,
   "metadata": {},
   "outputs": [
    {
     "data": {
      "text/plain": [
       "int"
      ]
     },
     "execution_count": 2,
     "metadata": {},
     "output_type": "execute_result"
    }
   ],
   "source": [
    "type(5)"
   ]
  },
  {
   "cell_type": "code",
   "execution_count": 3,
   "metadata": {},
   "outputs": [
    {
     "data": {
      "text/plain": [
       "float"
      ]
     },
     "execution_count": 3,
     "metadata": {},
     "output_type": "execute_result"
    }
   ],
   "source": [
    "type(5.0)"
   ]
  },
  {
   "cell_type": "code",
   "execution_count": 4,
   "metadata": {},
   "outputs": [
    {
     "data": {
      "text/plain": [
       "bool"
      ]
     },
     "execution_count": 4,
     "metadata": {},
     "output_type": "execute_result"
    }
   ],
   "source": [
    "type(5>1)"
   ]
  },
  {
   "cell_type": "code",
   "execution_count": 5,
   "metadata": {},
   "outputs": [
    {
     "data": {
      "text/plain": [
       "str"
      ]
     },
     "execution_count": 5,
     "metadata": {},
     "output_type": "execute_result"
    }
   ],
   "source": [
    "type('5')"
   ]
  },
  {
   "cell_type": "code",
   "execution_count": 6,
   "metadata": {},
   "outputs": [
    {
     "data": {
      "text/plain": [
       "int"
      ]
     },
     "execution_count": 6,
     "metadata": {},
     "output_type": "execute_result"
    }
   ],
   "source": [
    "type(5*2)"
   ]
  },
  {
   "cell_type": "code",
   "execution_count": 7,
   "metadata": {},
   "outputs": [
    {
     "data": {
      "text/plain": [
       "str"
      ]
     },
     "execution_count": 7,
     "metadata": {},
     "output_type": "execute_result"
    }
   ],
   "source": [
    "type('5' * 2)"
   ]
  },
  {
   "cell_type": "code",
   "execution_count": 8,
   "metadata": {},
   "outputs": [
    {
     "data": {
      "text/plain": [
       "str"
      ]
     },
     "execution_count": 8,
     "metadata": {},
     "output_type": "execute_result"
    }
   ],
   "source": [
    "type('5' + '2')"
   ]
  },
  {
   "cell_type": "code",
   "execution_count": 9,
   "metadata": {},
   "outputs": [
    {
     "data": {
      "text/plain": [
       "float"
      ]
     },
     "execution_count": 9,
     "metadata": {},
     "output_type": "execute_result"
    }
   ],
   "source": [
    "type(5/2)"
   ]
  },
  {
   "cell_type": "code",
   "execution_count": 10,
   "metadata": {},
   "outputs": [
    {
     "data": {
      "text/plain": [
       "int"
      ]
     },
     "execution_count": 10,
     "metadata": {},
     "output_type": "execute_result"
    }
   ],
   "source": [
    "type(5//2)"
   ]
  },
  {
   "cell_type": "code",
   "execution_count": 11,
   "metadata": {},
   "outputs": [
    {
     "data": {
      "text/plain": [
       "list"
      ]
     },
     "execution_count": 11,
     "metadata": {},
     "output_type": "execute_result"
    }
   ],
   "source": [
    "type([5,2,1])"
   ]
  },
  {
   "cell_type": "code",
   "execution_count": 12,
   "metadata": {},
   "outputs": [
    {
     "data": {
      "text/plain": [
       "bool"
      ]
     },
     "execution_count": 12,
     "metadata": {},
     "output_type": "execute_result"
    }
   ],
   "source": [
    "type(5 in [1,4,6])"
   ]
  },
  {
   "cell_type": "code",
   "execution_count": 13,
   "metadata": {},
   "outputs": [],
   "source": [
    "import math "
   ]
  },
  {
   "cell_type": "code",
   "execution_count": 14,
   "metadata": {},
   "outputs": [
    {
     "data": {
      "text/plain": [
       "float"
      ]
     },
     "execution_count": 14,
     "metadata": {},
     "output_type": "execute_result"
    }
   ],
   "source": [
    "type(math.pi)"
   ]
  },
  {
   "cell_type": "markdown",
   "metadata": {},
   "source": [
    "### Q2. Write (and evaluate) Python expressions that answer these questions:\n",
    "\n",
    "##### a. How many letters are there in 'Supercalifragilisticexpialidocious'?\n",
    "##### b. Does 'Supercalifragilisticexpialidocious' contain 'ice' as a substring? \n",
    "##### c. Which of the following words is the longest:Supercalifragilisticexpialidocious, Honorificabilitudinitatibus, or Bababadalgharaghtakamminarronnkonn?\n",
    "##### d. Which composer comes first in the dictionary: 'Berlioz', 'Borodin', 'Brian','Bartok', 'Bellini', 'Buxtehude', 'Bernstein'. Which one comes last?\n"
   ]
  },
  {
   "cell_type": "markdown",
   "metadata": {},
   "source": [
    "###### A)"
   ]
  },
  {
   "cell_type": "code",
   "execution_count": 15,
   "metadata": {},
   "outputs": [
    {
     "data": {
      "text/plain": [
       "34"
      ]
     },
     "execution_count": 15,
     "metadata": {},
     "output_type": "execute_result"
    }
   ],
   "source": [
    "len('Supercalifragilisticexpialidocious')"
   ]
  },
  {
   "cell_type": "markdown",
   "metadata": {},
   "source": [
    "##### B)"
   ]
  },
  {
   "cell_type": "code",
   "execution_count": 16,
   "metadata": {},
   "outputs": [
    {
     "name": "stdout",
     "output_type": "stream",
     "text": [
      "Contains substring 'ice'\n"
     ]
    }
   ],
   "source": [
    "str = 'Supercalifragilisticexpialidocious'\n",
    "if (str.find('ice') != -1):\n",
    "    print(\"Contains substring 'ice'\")\n",
    "else:\n",
    "    print(\"Doesn't contain substring\")\n",
    "\n"
   ]
  },
  {
   "cell_type": "markdown",
   "metadata": {},
   "source": [
    "##### C)"
   ]
  },
  {
   "cell_type": "code",
   "execution_count": 17,
   "metadata": {},
   "outputs": [
    {
     "name": "stdout",
     "output_type": "stream",
     "text": [
      "The longest word is :  Supercalifragilisticexpialidocious\n"
     ]
    }
   ],
   "source": [
    "list1 = [\"Supercalifragilisticexpialidocious\",\"Honorificabilitudinitatibus\",\"Bababadalgharaghtakamminarronnkonn\"]\n",
    "long_string = max(list1 , key=len)\n",
    "print(\"The longest word is : \", long_string)"
   ]
  },
  {
   "cell_type": "markdown",
   "metadata": {},
   "source": [
    "##### D)"
   ]
  },
  {
   "cell_type": "code",
   "execution_count": 18,
   "metadata": {},
   "outputs": [
    {
     "name": "stdout",
     "output_type": "stream",
     "text": [
      "7\n",
      "Bartok\n",
      "Buxtehude\n"
     ]
    }
   ],
   "source": [
    "words = ['Berlioz', 'Borodin', 'Brian','Bartok', 'Bellini', 'Buxtehude', 'Bernstein']\n",
    "words.sort()\n",
    "print(len(words))\n",
    "print(words[0])\n",
    "print(words[6])"
   ]
  },
  {
   "cell_type": "markdown",
   "metadata": {},
   "source": [
    "##### Question 3\n",
    "###### a. Write a function inside(x,y,x1,y1,x2,y2) that returns True or False, depending on whether the point (x,y) lies in the rectangle with lower left corner (x1,y1) and upper right corner (x2,y2).\n",
    "i) inside(1,1,0,0,2,3)\n",
    "\n",
    "True\n",
    "\n",
    "ii) inside(-1,-1,0,0,2,3)\n",
    "\n",
    "False\n",
    "###### b. Use function inside() from part a. to write an expression that tests whether the point (1,1) lies in both of the following rectangles: one with lower left corner (0.3, 0.5) and upper right corner (1.1, 0.7) and the other with lower left corner (0.5, 0.2) and upper right corner (1.1, 2). "
   ]
  },
  {
   "cell_type": "markdown",
   "metadata": {},
   "source": [
    "##### a)"
   ]
  },
  {
   "cell_type": "code",
   "execution_count": 19,
   "metadata": {},
   "outputs": [
    {
     "name": "stdout",
     "output_type": "stream",
     "text": [
      "True\n",
      "False\n"
     ]
    }
   ],
   "source": [
    "def inside(x,y,x1,y1,x2,y2):\n",
    "    if(x1 < x < x2 and y1 < y < y2):\n",
    "        print(bool(1))\n",
    "    else:\n",
    "        print(bool(0))\n",
    "    \n",
    "inside(1,1,0,0,2,3)        \n",
    "inside(-1,-1,0,0,2,3)"
   ]
  },
  {
   "cell_type": "markdown",
   "metadata": {},
   "source": [
    "##### b) (i)"
   ]
  },
  {
   "cell_type": "code",
   "execution_count": 20,
   "metadata": {},
   "outputs": [
    {
     "name": "stdout",
     "output_type": "stream",
     "text": [
      "False\n",
      "The point (1,1) doesnot lie in rectancle with lower left corner (0.3, 0.5) and upper right corner (1.1, 0.7)\n"
     ]
    }
   ],
   "source": [
    "if inside(1,1,0.3,0.5,1.1,0.7):\n",
    "    print('The point (1,1) lies in rectancle with lower left corner (0.3, 0.5) and upper right corner (1.1, 0.7)')\n",
    "else:\n",
    "    print('The point (1,1) doesnot lie in rectancle with lower left corner (0.3, 0.5) and upper right corner (1.1, 0.7)')"
   ]
  },
  {
   "cell_type": "markdown",
   "metadata": {},
   "source": [
    "##### b) (ii)"
   ]
  },
  {
   "cell_type": "code",
   "execution_count": 21,
   "metadata": {},
   "outputs": [
    {
     "name": "stdout",
     "output_type": "stream",
     "text": [
      "True\n",
      "The point (1,1) doesnot lie in rectancle with lower left corner (0.5, 0.2) and upper right corner (1.1, 2)\n"
     ]
    }
   ],
   "source": [
    "if inside(1,1,0.5,0.2,1.1,2):\n",
    "    print('The point (1,1) lies in rectancle with lower left corner (0.5, 0.2) and upper right corner (1.1, 2)')\n",
    "else:\n",
    "    print('The point (1,1) doesnot lie in rectancle with lower left corner (0.5, 0.2) and upper right corner (1.1, 2)')\n"
   ]
  },
  {
   "cell_type": "markdown",
   "metadata": {},
   "source": [
    "###### Q4. You can turn a word into pig-Latin using the following two rules (simplified):\n",
    "###### • If the word starts with a consonant, move that letter to the end and append 'ay'. For example, 'happy' becomes 'appyhay' and 'pencil' becomes 'encilpay'.\n",
    "###### • If the word starts with a vowel, simply append 'way' to the end of the word.For example, 'enter' becomes 'enterway' and 'other' becomes 'otherway' . For our purposes, there are 5 vowels: a, e, i, o, u (so we count y as a consonant).\n",
    "##### Write a function pig() that takes a word (i.e., a string) as input and returns its pigLatin form. Your function should still work if the input word contains upper case characters. Your output should always be lower case however.\n",
    "pig('happy')\n",
    "\n",
    "'appyhay'\n",
    "\n",
    "pig('Enter')\n",
    "\n",
    "'enterway' "
   ]
  },
  {
   "cell_type": "code",
   "execution_count": 22,
   "metadata": {},
   "outputs": [
    {
     "name": "stdout",
     "output_type": "stream",
     "text": [
      "Enter a word: evion\n",
      "The word in Pig Latin is: evionway\n"
     ]
    }
   ],
   "source": [
    "vowel = ('a','e','i','o','u')\n",
    "consonant = ('b','c','d','f','g','h','j','k','l','m','n','p','q','r','s','t','v','w','x','y','z')\n",
    "way = 'way'\n",
    "ay = 'ay'\n",
    "\n",
    "user_word = input('Enter a word: ')\n",
    "# getting first letter and making sure its a string and setting it to lowercase\n",
    "first_letter = user_word[0]\n",
    "first_letter = first_letter.lower()\n",
    "\n",
    "if first_letter in consonant:\n",
    "   length_of_word = len(user_word)  \n",
    "   remove_first_letter = user_word[1:length_of_word]\n",
    "   pig_latin = remove_first_letter + first_letter + ay\n",
    "   print('The word in Pig Latin is:',pig_latin)\n",
    "else :\n",
    "   pig_latin = user_word + way\n",
    "   print('The word in Pig Latin is:',pig_latin)\n"
   ]
  },
  {
   "cell_type": "markdown",
   "metadata": {},
   "source": [
    "##### Q5. File bloodtype1.txt records blood-types of patients (A, B, AB, O or OO) at a clinic.\n",
    "##### Write a function bldcount() that reads the file with name name and reports (i.e.,prints) how many patients there are in each bloodtype"
   ]
  },
  {
   "cell_type": "code",
   "execution_count": 23,
   "metadata": {},
   "outputs": [
    {
     "name": "stdout",
     "output_type": "stream",
     "text": [
      "C:\\Users\\Sidharth Sharma\\Documents\n"
     ]
    }
   ],
   "source": [
    "cd C:\\Users\\Sidharth Sharma\\Documents"
   ]
  },
  {
   "cell_type": "code",
   "execution_count": 24,
   "metadata": {},
   "outputs": [
    {
     "data": {
      "text/plain": [
       "'C:\\\\Users\\\\Sidharth Sharma\\\\Documents'"
      ]
     },
     "execution_count": 24,
     "metadata": {},
     "output_type": "execute_result"
    }
   ],
   "source": [
    "pwd()"
   ]
  },
  {
   "cell_type": "code",
   "execution_count": 25,
   "metadata": {},
   "outputs": [
    {
     "name": "stdout",
     "output_type": "stream",
     "text": [
      "There are 15  patients of blood type A\n",
      "There are 1   patients of blood type B\n",
      "There are 15  patients of blood type O\n",
      "There are 13  patients of blood type AB\n"
     ]
    }
   ],
   "source": [
    "blood_ty = open('bloodtype1.txt','r')\n",
    "blood_type = blood_ty.read().split(\" \")\n",
    "\n",
    "\n",
    "blood_A = 0\n",
    "for i in blood_type: \n",
    "    if i == \"A\": \n",
    "        blood_A = blood_A + 1\n",
    "print('There are',blood_A,' patients of blood type A')\n",
    "\n",
    "blood_B = 0\n",
    "for j in blood_type: \n",
    "    if j == \"B\": \n",
    "        blood_B = blood_B + 1\n",
    "print('There are',blood_B,'  patients of blood type B')\n",
    "\n",
    "blood_O = 0\n",
    "for l in blood_type: \n",
    "    if l == \"O\": \n",
    "        blood_O = blood_O + 1\n",
    "print('There are',blood_O,' patients of blood type O')\n",
    "\n",
    "blood_AB = 0\n",
    "for k in blood_type: \n",
    "    if k == \"AB\": \n",
    "        blood_AB = blood_AB + 1\n",
    "print('There are',blood_AB,' patients of blood type AB')"
   ]
  },
  {
   "cell_type": "markdown",
   "metadata": {},
   "source": [
    "##### Question 6 Write a function curconv() that takes as input:\n",
    "##### 1. a currency represented using a string (e.g., 'JPY' for the Japanese Yen or'EUR' for the Euro)\n",
    "##### 2. an amount and then converts and returns the amount in US dollars.\n",
    "a) curconv('EUR', 100) - \n",
    "122.96544\n",
    "\n",
    "b) curconv('JPY', 100) - \n",
    "1.241401"
   ]
  },
  {
   "cell_type": "code",
   "execution_count": 26,
   "metadata": {},
   "outputs": [],
   "source": [
    "\n",
    "def curconv(country,amount):\n",
    "    exchange = {}\n",
    "    currency_file = open('currencies.txt','r')\n",
    "    lines = currency_file.readlines()\n",
    "    for line in lines:\n",
    "        exchange[line.split('\\t')[0]]= float(line.split('\\t')[1])\n",
    "    return exchange[country]* amount\n"
   ]
  },
  {
   "cell_type": "markdown",
   "metadata": {},
   "source": [
    "###### a)"
   ]
  },
  {
   "cell_type": "code",
   "execution_count": 27,
   "metadata": {},
   "outputs": [
    {
     "data": {
      "text/plain": [
       "122.96544"
      ]
     },
     "execution_count": 27,
     "metadata": {},
     "output_type": "execute_result"
    }
   ],
   "source": [
    "curconv('EUR',100)"
   ]
  },
  {
   "cell_type": "markdown",
   "metadata": {},
   "source": [
    "##### b)"
   ]
  },
  {
   "cell_type": "code",
   "execution_count": 28,
   "metadata": {},
   "outputs": [
    {
     "data": {
      "text/plain": [
       "1.241401"
      ]
     },
     "execution_count": 28,
     "metadata": {},
     "output_type": "execute_result"
    }
   ],
   "source": [
    "curconv('JPY' , 100)"
   ]
  },
  {
   "cell_type": "code",
   "execution_count": 29,
   "metadata": {},
   "outputs": [
    {
     "data": {
      "text/plain": [
       "1.77643"
      ]
     },
     "execution_count": 29,
     "metadata": {},
     "output_type": "execute_result"
    }
   ],
   "source": [
    "curconv('INR' , 100)"
   ]
  },
  {
   "cell_type": "code",
   "execution_count": 30,
   "metadata": {},
   "outputs": [
    {
     "data": {
      "text/plain": [
       "14.826900000000002"
      ]
     },
     "execution_count": 30,
     "metadata": {},
     "output_type": "execute_result"
    }
   ],
   "source": [
    "curconv('SEK' , 100)"
   ]
  },
  {
   "cell_type": "markdown",
   "metadata": {},
   "source": [
    " ###### Q7. Each of the following will cause an exception (an error). Identify what type of exception each will cause.\n",
    "a) Trying to add incompatible variables, as in adding 6 + ‘a’\n",
    "\n",
    "b) Referring to the 12th item of a list that has only 10 items\n",
    "\n",
    "c) Using a value that is out of range for a function’s input, such as calling math.sqrt(-1.0)\n",
    "\n",
    "d) Using an undeclared variable, such as print(x) when x has not been defined \n",
    "\n",
    "e) Trying to open a file that does not exist, such as mistyping the file name or looking in the wrong directory. "
   ]
  },
  {
   "cell_type": "markdown",
   "metadata": {},
   "source": [
    "### Answers\n",
    "##### a)  type error as int and  str\n",
    "##### b) index error as out of range\n",
    "##### c)  value error \n",
    "##### d) name error as it is not defined\n",
    "##### e) file not found error"
   ]
  },
  {
   "cell_type": "markdown",
   "metadata": {},
   "source": [
    "##### Q9. The Sieve of Erastophenes is an algorithm -- known to ancient Greeks -- that finds all prime numbers up to a given number n. It does this by first creating a list L from 2 to n and an (initially empty) list primeL. The algorithm then takes the first number in list L (2) and appends it to list primeL, and then removes 2 and all its multiples(4,6,8,10,12, ...) from L. The algorithm then takes the new first number in L (3) and appends it to list primeL, and then removes from L 3 and all its remaining multiples(9,15,21,...). So, in every iteration, the first number of list L is appended to list primeL and then it and its multiples are removed from list L. The iterations stop when list L becomes empty. Write a function sieve() that takes as input a positive integer n, implements the above algorithm, and returns a list of all prime numbers upto n."
   ]
  },
  {
   "cell_type": "code",
   "execution_count": 31,
   "metadata": {},
   "outputs": [
    {
     "name": "stdout",
     "output_type": "stream",
     "text": [
      "2\n",
      "3\n",
      "5\n",
      "7\n",
      "11\n",
      "13\n"
     ]
    }
   ],
   "source": [
    "def sieve(n):\n",
    "    prime_num = []\n",
    "    for x in range(2, n+1):\n",
    "        if x not in prime_num:\n",
    "            print (x)\n",
    "            for y in range(x*x, n+1, x):\n",
    "                prime_num.append(y)\n",
    "\n",
    "sieve(15)\n"
   ]
  },
  {
   "cell_type": "markdown",
   "metadata": {},
   "source": [
    "##### Q10. Implement function triangleArea(a,b,c) that takes as input the lengths of the 3sides of a triangle and returns the area of the triangle. By Heron's formula, the area of a triangle with side lengths a, b, and c is squart root(s(s - a)(s -b)(s -c)), where s = (a+b+c)/2. \n"
   ]
  },
  {
   "cell_type": "code",
   "execution_count": 32,
   "metadata": {},
   "outputs": [],
   "source": [
    "\n",
    "def triangleArea(a,b,c):\n",
    "    s = (a+b+c)/2\n",
    "    area = np.sqrt(s*(s-a)*(s-b)*(s-c))\n",
    "    return float(area)\n"
   ]
  },
  {
   "cell_type": "code",
   "execution_count": 33,
   "metadata": {},
   "outputs": [
    {
     "data": {
      "text/plain": [
       "1.7320508075688772"
      ]
     },
     "execution_count": 33,
     "metadata": {},
     "output_type": "execute_result"
    }
   ],
   "source": [
    "triangleArea(2,2,2)"
   ]
  }
 ],
 "metadata": {
  "kernelspec": {
   "display_name": "Python 3",
   "language": "python",
   "name": "python3"
  },
  "language_info": {
   "codemirror_mode": {
    "name": "ipython",
    "version": 3
   },
   "file_extension": ".py",
   "mimetype": "text/x-python",
   "name": "python",
   "nbconvert_exporter": "python",
   "pygments_lexer": "ipython3",
   "version": "3.6.5"
  }
 },
 "nbformat": 4,
 "nbformat_minor": 2
}
